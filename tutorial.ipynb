{
 "cells": [
  {
   "cell_type": "code",
   "execution_count": 65,
   "id": "871f8d31-eb30-4d88-a029-2872f9b84bd9",
   "metadata": {},
   "outputs": [
    {
     "name": "stdout",
     "output_type": "stream",
     "text": [
      "[2, -1, -14, -2, 10, 5, 7, -8, 6, -5, 3]\n",
      "['B', 'A', 'A', 'A', 'B', 'B', 'B', 'A', 'B', 'A', 'B']\n"
     ]
    }
   ],
   "source": [
    "import random\n",
    "\n",
    "\n",
    "# Nombres négatifs\n",
    "classA = [-1, -5, -2, -8, -14]\n",
    "# Nombres positifs\n",
    "classB = [3, 7, 2, 6, 5, 10]\n",
    "\n",
    "# Dataset mélangé\n",
    "total = classA + classB\n",
    "random.shuffle(total)\n",
    "\n",
    "possible_labels = ['A', 'B']\n",
    "labels = [possible_labels[0 if x in classA else 1] for x in total]\n",
    "print(total)\n",
    "print(labels)\n",
    "\n",
    "\n",
    "# Fit prend des tableaux 2d\n",
    "total = [ [x] for x in total ]\n",
    "label = [ [y] for y in labels ]"
   ]
  },
  {
   "cell_type": "code",
   "execution_count": 64,
   "id": "e88d2536-a483-4469-9a7f-52b944a957fd",
   "metadata": {},
   "outputs": [
    {
     "name": "stdout",
     "output_type": "stream",
     "text": [
      "[1 1 2 2]\n",
      "['A', 'A', 'B', 'B']\n"
     ]
    }
   ],
   "source": [
    "from sklearn.tree import DecisionTreeClassifier\n",
    "\n",
    "classifier = DecisionTreeClassifier()\n",
    "\n",
    "classifier.fit(total, labels)\n",
    "\n",
    "test = [[-3],\n",
    "        [-11],\n",
    "        [4],\n",
    "        [1]]\n",
    "# Expected : ['A', 'A', 'B', 'B']\n",
    "\n",
    "predictions = classifier.apply(test)\n",
    "print(predictions)\n",
    "print([possible_labels[i - 1] for i in predictions])"
   ]
  }
 ],
 "metadata": {
  "kernelspec": {
   "display_name": "Python 3 (ipykernel)",
   "language": "python",
   "name": "python3"
  },
  "language_info": {
   "codemirror_mode": {
    "name": "ipython",
    "version": 3
   },
   "file_extension": ".py",
   "mimetype": "text/x-python",
   "name": "python",
   "nbconvert_exporter": "python",
   "pygments_lexer": "ipython3",
   "version": "3.10.7"
  }
 },
 "nbformat": 4,
 "nbformat_minor": 5
}
